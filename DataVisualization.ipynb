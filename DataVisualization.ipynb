{
 "cells": [
  {
   "cell_type": "code",
   "execution_count": 5,
   "id": "48e4f488-95e0-459b-b561-cce66f2872c1",
   "metadata": {},
   "outputs": [],
   "source": [
    "import pandas as pd"
   ]
  },
  {
   "cell_type": "code",
   "execution_count": 7,
   "id": "910d1317-5f6f-450b-91a5-894337c7a6b7",
   "metadata": {},
   "outputs": [],
   "source": [
    "import matplotlib.pyplot as plt\n",
    "import seaborn as sns"
   ]
  },
  {
   "cell_type": "code",
   "execution_count": 8,
   "id": "4eb63775-ae7a-4e7e-8e25-591e39128b1e",
   "metadata": {},
   "outputs": [
    {
     "data": {
      "text/html": [
       "<div>\n",
       "<style scoped>\n",
       "    .dataframe tbody tr th:only-of-type {\n",
       "        vertical-align: middle;\n",
       "    }\n",
       "\n",
       "    .dataframe tbody tr th {\n",
       "        vertical-align: top;\n",
       "    }\n",
       "\n",
       "    .dataframe thead th {\n",
       "        text-align: right;\n",
       "    }\n",
       "</style>\n",
       "<table border=\"1\" class=\"dataframe\">\n",
       "  <thead>\n",
       "    <tr style=\"text-align: right;\">\n",
       "      <th></th>\n",
       "      <th>Univ</th>\n",
       "      <th>SAT</th>\n",
       "      <th>Top10</th>\n",
       "      <th>Accept</th>\n",
       "      <th>SFRatio</th>\n",
       "      <th>Expenses</th>\n",
       "      <th>GradRate</th>\n",
       "    </tr>\n",
       "  </thead>\n",
       "  <tbody>\n",
       "    <tr>\n",
       "      <th>0</th>\n",
       "      <td>Brown</td>\n",
       "      <td>1310</td>\n",
       "      <td>89</td>\n",
       "      <td>22</td>\n",
       "      <td>13</td>\n",
       "      <td>22704</td>\n",
       "      <td>94</td>\n",
       "    </tr>\n",
       "    <tr>\n",
       "      <th>1</th>\n",
       "      <td>CalTech</td>\n",
       "      <td>1415</td>\n",
       "      <td>100</td>\n",
       "      <td>25</td>\n",
       "      <td>6</td>\n",
       "      <td>63575</td>\n",
       "      <td>81</td>\n",
       "    </tr>\n",
       "    <tr>\n",
       "      <th>2</th>\n",
       "      <td>CMU</td>\n",
       "      <td>1260</td>\n",
       "      <td>62</td>\n",
       "      <td>59</td>\n",
       "      <td>9</td>\n",
       "      <td>25026</td>\n",
       "      <td>72</td>\n",
       "    </tr>\n",
       "    <tr>\n",
       "      <th>3</th>\n",
       "      <td>Columbia</td>\n",
       "      <td>1310</td>\n",
       "      <td>76</td>\n",
       "      <td>24</td>\n",
       "      <td>12</td>\n",
       "      <td>31510</td>\n",
       "      <td>88</td>\n",
       "    </tr>\n",
       "    <tr>\n",
       "      <th>4</th>\n",
       "      <td>Cornell</td>\n",
       "      <td>1280</td>\n",
       "      <td>83</td>\n",
       "      <td>33</td>\n",
       "      <td>13</td>\n",
       "      <td>21864</td>\n",
       "      <td>90</td>\n",
       "    </tr>\n",
       "    <tr>\n",
       "      <th>5</th>\n",
       "      <td>Dartmouth</td>\n",
       "      <td>1340</td>\n",
       "      <td>89</td>\n",
       "      <td>23</td>\n",
       "      <td>10</td>\n",
       "      <td>32162</td>\n",
       "      <td>95</td>\n",
       "    </tr>\n",
       "    <tr>\n",
       "      <th>6</th>\n",
       "      <td>Duke</td>\n",
       "      <td>1315</td>\n",
       "      <td>90</td>\n",
       "      <td>30</td>\n",
       "      <td>12</td>\n",
       "      <td>31585</td>\n",
       "      <td>95</td>\n",
       "    </tr>\n",
       "    <tr>\n",
       "      <th>7</th>\n",
       "      <td>Georgetown</td>\n",
       "      <td>1255</td>\n",
       "      <td>74</td>\n",
       "      <td>24</td>\n",
       "      <td>12</td>\n",
       "      <td>20126</td>\n",
       "      <td>92</td>\n",
       "    </tr>\n",
       "    <tr>\n",
       "      <th>8</th>\n",
       "      <td>Harvard</td>\n",
       "      <td>1400</td>\n",
       "      <td>91</td>\n",
       "      <td>14</td>\n",
       "      <td>11</td>\n",
       "      <td>39525</td>\n",
       "      <td>97</td>\n",
       "    </tr>\n",
       "    <tr>\n",
       "      <th>9</th>\n",
       "      <td>JohnsHopkins</td>\n",
       "      <td>1305</td>\n",
       "      <td>75</td>\n",
       "      <td>44</td>\n",
       "      <td>7</td>\n",
       "      <td>58691</td>\n",
       "      <td>87</td>\n",
       "    </tr>\n",
       "    <tr>\n",
       "      <th>10</th>\n",
       "      <td>MIT</td>\n",
       "      <td>1380</td>\n",
       "      <td>94</td>\n",
       "      <td>30</td>\n",
       "      <td>10</td>\n",
       "      <td>34870</td>\n",
       "      <td>91</td>\n",
       "    </tr>\n",
       "    <tr>\n",
       "      <th>11</th>\n",
       "      <td>Northwestern</td>\n",
       "      <td>1260</td>\n",
       "      <td>85</td>\n",
       "      <td>39</td>\n",
       "      <td>11</td>\n",
       "      <td>28052</td>\n",
       "      <td>89</td>\n",
       "    </tr>\n",
       "    <tr>\n",
       "      <th>12</th>\n",
       "      <td>NotreDame</td>\n",
       "      <td>1255</td>\n",
       "      <td>81</td>\n",
       "      <td>42</td>\n",
       "      <td>13</td>\n",
       "      <td>15122</td>\n",
       "      <td>94</td>\n",
       "    </tr>\n",
       "    <tr>\n",
       "      <th>13</th>\n",
       "      <td>PennState</td>\n",
       "      <td>1081</td>\n",
       "      <td>38</td>\n",
       "      <td>54</td>\n",
       "      <td>18</td>\n",
       "      <td>10185</td>\n",
       "      <td>80</td>\n",
       "    </tr>\n",
       "    <tr>\n",
       "      <th>14</th>\n",
       "      <td>Princeton</td>\n",
       "      <td>1375</td>\n",
       "      <td>91</td>\n",
       "      <td>14</td>\n",
       "      <td>8</td>\n",
       "      <td>30220</td>\n",
       "      <td>95</td>\n",
       "    </tr>\n",
       "    <tr>\n",
       "      <th>15</th>\n",
       "      <td>Purdue</td>\n",
       "      <td>1005</td>\n",
       "      <td>28</td>\n",
       "      <td>90</td>\n",
       "      <td>19</td>\n",
       "      <td>9066</td>\n",
       "      <td>69</td>\n",
       "    </tr>\n",
       "    <tr>\n",
       "      <th>16</th>\n",
       "      <td>Stanford</td>\n",
       "      <td>1360</td>\n",
       "      <td>90</td>\n",
       "      <td>20</td>\n",
       "      <td>12</td>\n",
       "      <td>36450</td>\n",
       "      <td>93</td>\n",
       "    </tr>\n",
       "    <tr>\n",
       "      <th>17</th>\n",
       "      <td>TexasA&amp;M</td>\n",
       "      <td>1075</td>\n",
       "      <td>49</td>\n",
       "      <td>67</td>\n",
       "      <td>25</td>\n",
       "      <td>8704</td>\n",
       "      <td>67</td>\n",
       "    </tr>\n",
       "    <tr>\n",
       "      <th>18</th>\n",
       "      <td>UCBerkeley</td>\n",
       "      <td>1240</td>\n",
       "      <td>95</td>\n",
       "      <td>40</td>\n",
       "      <td>17</td>\n",
       "      <td>15140</td>\n",
       "      <td>78</td>\n",
       "    </tr>\n",
       "    <tr>\n",
       "      <th>19</th>\n",
       "      <td>UChicago</td>\n",
       "      <td>1290</td>\n",
       "      <td>75</td>\n",
       "      <td>50</td>\n",
       "      <td>13</td>\n",
       "      <td>38380</td>\n",
       "      <td>87</td>\n",
       "    </tr>\n",
       "    <tr>\n",
       "      <th>20</th>\n",
       "      <td>UMichigan</td>\n",
       "      <td>1180</td>\n",
       "      <td>65</td>\n",
       "      <td>68</td>\n",
       "      <td>16</td>\n",
       "      <td>15470</td>\n",
       "      <td>85</td>\n",
       "    </tr>\n",
       "    <tr>\n",
       "      <th>21</th>\n",
       "      <td>UPenn</td>\n",
       "      <td>1285</td>\n",
       "      <td>80</td>\n",
       "      <td>36</td>\n",
       "      <td>11</td>\n",
       "      <td>27553</td>\n",
       "      <td>90</td>\n",
       "    </tr>\n",
       "    <tr>\n",
       "      <th>22</th>\n",
       "      <td>UVA</td>\n",
       "      <td>1225</td>\n",
       "      <td>77</td>\n",
       "      <td>44</td>\n",
       "      <td>14</td>\n",
       "      <td>13349</td>\n",
       "      <td>92</td>\n",
       "    </tr>\n",
       "    <tr>\n",
       "      <th>23</th>\n",
       "      <td>UWisconsin</td>\n",
       "      <td>1085</td>\n",
       "      <td>40</td>\n",
       "      <td>69</td>\n",
       "      <td>15</td>\n",
       "      <td>11857</td>\n",
       "      <td>71</td>\n",
       "    </tr>\n",
       "    <tr>\n",
       "      <th>24</th>\n",
       "      <td>Yale</td>\n",
       "      <td>1375</td>\n",
       "      <td>95</td>\n",
       "      <td>19</td>\n",
       "      <td>11</td>\n",
       "      <td>43514</td>\n",
       "      <td>96</td>\n",
       "    </tr>\n",
       "  </tbody>\n",
       "</table>\n",
       "</div>"
      ],
      "text/plain": [
       "            Univ   SAT  Top10  Accept  SFRatio  Expenses  GradRate\n",
       "0          Brown  1310     89      22       13     22704        94\n",
       "1        CalTech  1415    100      25        6     63575        81\n",
       "2            CMU  1260     62      59        9     25026        72\n",
       "3       Columbia  1310     76      24       12     31510        88\n",
       "4        Cornell  1280     83      33       13     21864        90\n",
       "5      Dartmouth  1340     89      23       10     32162        95\n",
       "6           Duke  1315     90      30       12     31585        95\n",
       "7     Georgetown  1255     74      24       12     20126        92\n",
       "8        Harvard  1400     91      14       11     39525        97\n",
       "9   JohnsHopkins  1305     75      44        7     58691        87\n",
       "10           MIT  1380     94      30       10     34870        91\n",
       "11  Northwestern  1260     85      39       11     28052        89\n",
       "12     NotreDame  1255     81      42       13     15122        94\n",
       "13     PennState  1081     38      54       18     10185        80\n",
       "14     Princeton  1375     91      14        8     30220        95\n",
       "15        Purdue  1005     28      90       19      9066        69\n",
       "16      Stanford  1360     90      20       12     36450        93\n",
       "17      TexasA&M  1075     49      67       25      8704        67\n",
       "18    UCBerkeley  1240     95      40       17     15140        78\n",
       "19      UChicago  1290     75      50       13     38380        87\n",
       "20     UMichigan  1180     65      68       16     15470        85\n",
       "21         UPenn  1285     80      36       11     27553        90\n",
       "22           UVA  1225     77      44       14     13349        92\n",
       "23    UWisconsin  1085     40      69       15     11857        71\n",
       "24          Yale  1375     95      19       11     43514        96"
      ]
     },
     "execution_count": 8,
     "metadata": {},
     "output_type": "execute_result"
    }
   ],
   "source": [
    "df = pd.read_csv('universities.csv')\n",
    "df"
   ]
  },
  {
   "cell_type": "code",
   "execution_count": 11,
   "id": "32c2411d-7c44-4dde-9a07-3e2211a586a8",
   "metadata": {},
   "outputs": [
    {
     "data": {
      "text/plain": [
       "(array([4., 5., 4., 5., 1., 2., 1., 2., 0., 1.]),\n",
       " array([14. , 21.6, 29.2, 36.8, 44.4, 52. , 59.6, 67.2, 74.8, 82.4, 90. ]),\n",
       " <BarContainer object of 10 artists>)"
      ]
     },
     "execution_count": 11,
     "metadata": {},
     "output_type": "execute_result"
    },
    {
     "data": {
      "image/png": "[encoded data removed]",
      "text/plain": [
       "<Figure size 600x300 with 1 Axes>"
      ]
     },
     "metadata": {},
     "output_type": "display_data"
    }
   ],
   "source": [
    "plt.figure(figsize=(6,3))\n",
    "plt.title(\"Acceptance Ratio\")\n",
    "plt.hist(df[\"Accept\"])"
   ]
  },
  {
   "cell_type": "code",
   "execution_count": 13,
   "id": "b1c33502-3fa2-4967-83c8-13eebdc65f65",
   "metadata": {},
   "outputs": [
    {
     "data": {
      "text/plain": [
       "<Axes: xlabel='Accept', ylabel='Count'>"
      ]
     },
     "execution_count": 13,
     "metadata": {},
     "output_type": "execute_result"
    },
    {
     "data": {
      "image/png": "[encoded data removed]",
      "text/plain": [
       "<Figure size 640x480 with 1 Axes>"
      ]
     },
     "metadata": {},
     "output_type": "display_data"
    }
   ],
   "source": [
    "sns.histplot(df[\"Accept\"], kde =True)"
   ]
  },
  {
   "cell_type": "code",
   "execution_count": null,
   "id": "3367731f-7ce9-4182-b5a7-705a74d3fddc",
   "metadata": {},
   "outputs": [],
   "source": [
    "# Observations\n",
    "In Acceptance ratio the data distribution is non-symmetrical and right skewed."
   ]
  },
  {
   "cell_type": "code",
   "execution_count": 15,
   "id": "7d500791-dfc9-47c1-8936-2f1c791c2394",
   "metadata": {},
   "outputs": [
    {
     "data": {
      "text/plain": [
       "0     20\n",
       "1     15\n",
       "2     10\n",
       "3     25\n",
       "4     30\n",
       "5     35\n",
       "6     28\n",
       "7     33\n",
       "8     45\n",
       "9     23\n",
       "10    34\n",
       "dtype: int64"
      ]
     },
     "execution_count": 15,
     "metadata": {},
     "output_type": "execute_result"
    }
   ],
   "source": [
    "s1 = [20,15,10,25,30,35,28,33,45,23,34]\n",
    "scores1 = pd.Series(s1)\n",
    "scores1"
   ]
  },
  {
   "cell_type": "code",
   "execution_count": 17,
   "id": "3b179816-a1ac-4995-94dc-fdc29ed8c795",
   "metadata": {},
   "outputs": [
    {
     "data": {
      "text/plain": [
       "{'whiskers': [<matplotlib.lines.Line2D at 0x21125ea30b0>,\n",
       "  <matplotlib.lines.Line2D at 0x21125eae000>],\n",
       " 'caps': [<matplotlib.lines.Line2D at 0x21125eae240>,\n",
       "  <matplotlib.lines.Line2D at 0x21125eae360>],\n",
       " 'boxes': [<matplotlib.lines.Line2D at 0x21125eadb20>],\n",
       " 'medians': [<matplotlib.lines.Line2D at 0x21125eae5d0>],\n",
       " 'fliers': [<matplotlib.lines.Line2D at 0x21125eae870>],\n",
       " 'means': []}"
      ]
     },
     "execution_count": 17,
     "metadata": {},
     "output_type": "execute_result"
    },
    {
     "data": {
      "image/png": "[encoded data removed]",
      "text/plain": [
       "<Figure size 640x480 with 1 Axes>"
      ]
     },
     "metadata": {},
     "output_type": "display_data"
    }
   ],
   "source": [
    "import matplotlib.pyplot as plt\n",
    "plt.boxplot(scores1)"
   ]
  },
  {
   "cell_type": "code",
   "execution_count": 19,
   "id": "bfa1c9b0-013c-4f70-9880-5db99db04c15",
   "metadata": {},
   "outputs": [
    {
     "data": {
      "text/plain": [
       "{'whiskers': [<matplotlib.lines.Line2D at 0x21125f44fe0>,\n",
       "  <matplotlib.lines.Line2D at 0x21125f45280>],\n",
       " 'caps': [<matplotlib.lines.Line2D at 0x21125f45550>,\n",
       "  <matplotlib.lines.Line2D at 0x21125f0faa0>],\n",
       " 'boxes': [<matplotlib.lines.Line2D at 0x21125f44d10>],\n",
       " 'medians': [<matplotlib.lines.Line2D at 0x21125f459d0>],\n",
       " 'fliers': [<matplotlib.lines.Line2D at 0x21125f45cd0>],\n",
       " 'means': []}"
      ]
     },
     "execution_count": 19,
     "metadata": {},
     "output_type": "execute_result"
    },
    {
     "data": {
      "image/png": "[encoded data removed]",
      "text/plain": [
       "<Figure size 640x480 with 1 Axes>"
      ]
     },
     "metadata": {},
     "output_type": "display_data"
    }
   ],
   "source": [
    "plt.boxplot(scores1, vert=False)"
   ]
  },
  {
   "cell_type": "code",
   "execution_count": 21,
   "id": "6b05e79e-3581-4cc6-9042-6a72aa011ae6",
   "metadata": {},
   "outputs": [
    {
     "data": {
      "text/plain": [
       "{'whiskers': [<matplotlib.lines.Line2D at 0x2112822c2c0>,\n",
       "  <matplotlib.lines.Line2D at 0x2112822c530>],\n",
       " 'caps': [<matplotlib.lines.Line2D at 0x2112822c800>,\n",
       "  <matplotlib.lines.Line2D at 0x2112822c980>],\n",
       " 'boxes': [<matplotlib.lines.Line2D at 0x2112822c050>],\n",
       " 'medians': [<matplotlib.lines.Line2D at 0x2112822cbc0>],\n",
       " 'fliers': [<matplotlib.lines.Line2D at 0x2112822ce30>],\n",
       " 'means': []}"
      ]
     },
     "execution_count": 21,
     "metadata": {},
     "output_type": "execute_result"
    },
    {
     "data": {
      "image/png": "[encoded data removed]",
      "text/plain": [
       "<Figure size 600x200 with 1 Axes>"
      ]
     },
     "metadata": {},
     "output_type": "display_data"
    }
   ],
   "source": [
    "plt.figure(figsize=(6,2))\n",
    "plt.title(\"Boxplot for batsman scores\")\n",
    "plt.xlabel(\"Scores\")\n",
    "plt.boxplot(scores1, vert=False)"
   ]
  },
  {
   "cell_type": "code",
   "execution_count": 23,
   "id": "9c9eaf92-daa8-4309-a24d-737e2123c146",
   "metadata": {},
   "outputs": [
    {
     "name": "stdout",
     "output_type": "stream",
     "text": [
      "0      20\n",
      "1      15\n",
      "2      10\n",
      "3      25\n",
      "4      30\n",
      "5      35\n",
      "6      28\n",
      "7      40\n",
      "8      45\n",
      "9      60\n",
      "10    120\n",
      "11    150\n",
      "dtype: int64\n"
     ]
    },
    {
     "data": {
      "text/plain": [
       "{'whiskers': [<matplotlib.lines.Line2D at 0x211282636b0>,\n",
       "  <matplotlib.lines.Line2D at 0x21128263890>],\n",
       " 'caps': [<matplotlib.lines.Line2D at 0x21128263ad0>,\n",
       "  <matplotlib.lines.Line2D at 0x21128263bf0>],\n",
       " 'boxes': [<matplotlib.lines.Line2D at 0x2112824ede0>],\n",
       " 'medians': [<matplotlib.lines.Line2D at 0x211282ac080>],\n",
       " 'fliers': [<matplotlib.lines.Line2D at 0x211282ac380>],\n",
       " 'means': []}"
      ]
     },
     "execution_count": 23,
     "metadata": {},
     "output_type": "execute_result"
    },
    {
     "data": {
      "image/png": "[encoded data removed]",
      "text/plain": [
       "<Figure size 600x200 with 1 Axes>"
      ]
     },
     "metadata": {},
     "output_type": "display_data"
    }
   ],
   "source": [
    "s2 = [20,15,10,25,30,35,28,40,45,60,120,150]\n",
    "scores2 = pd.Series(s2)\n",
    "print(scores2)\n",
    "\n",
    "plt.figure(figsize=(6,2))\n",
    "plt.title(\"Boxplot for batsman scores\")\n",
    "plt.xlabel(\"Scores\")\n",
    "plt.boxplot(scores2, vert=False)"
   ]
  },
  {
   "cell_type": "code",
   "execution_count": null,
   "id": "72c799b7-5b3b-4e5f-b5ad-a8c3beeb3e41",
   "metadata": {},
   "outputs": [],
   "source": []
  }
 ],
 "metadata": {
  "kernelspec": {
   "display_name": "Python [conda env:base] *",
   "language": "python",
   "name": "conda-base-py"
  },
  "language_info": {
   "codemirror_mode": {
    "name": "ipython",
    "version": 3
   },
   "file_extension": ".py",
   "mimetype": "text/x-python",
   "name": "python",
   "nbconvert_exporter": "python",
   "pygments_lexer": "ipython3",
   "version": "3.12.7"
  }
 },
 "nbformat": 4,
 "nbformat_minor": 5
}
